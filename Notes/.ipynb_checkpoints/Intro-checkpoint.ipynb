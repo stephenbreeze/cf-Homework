{
 "cells": [
  {
   "cell_type": "markdown",
   "metadata": {},
   "source": [
    "Introduction to Python <br>\n",
    "Tyler J. Brough, PhD <br>\n",
    "September 3, 2018 <br>\n",
    "\n",
    "\n",
    "# Introduction\n",
    "\n",
    "Lorem ipsum.\n",
    "\n",
    "\n",
    "## Your First Program"
   ]
  },
  {
   "cell_type": "code",
   "execution_count": 1,
   "metadata": {},
   "outputs": [
    {
     "name": "stdout",
     "output_type": "stream",
     "text": [
      "Hello, World!\n"
     ]
    }
   ],
   "source": [
    "print(\"Hello, World!\")"
   ]
  },
  {
   "cell_type": "markdown",
   "metadata": {},
   "source": [
    "## Using Variables"
   ]
  },
  {
   "cell_type": "code",
   "execution_count": 2,
   "metadata": {},
   "outputs": [
    {
     "name": "stdout",
     "output_type": "stream",
     "text": [
      "Hello, World!\n"
     ]
    }
   ],
   "source": [
    "message = \"Hello, World!\"\n",
    "print(message)"
   ]
  },
  {
   "cell_type": "markdown",
   "metadata": {},
   "source": [
    "## Using Functions"
   ]
  },
  {
   "cell_type": "code",
   "execution_count": 5,
   "metadata": {},
   "outputs": [
    {
     "name": "stdout",
     "output_type": "stream",
     "text": [
      "Hello, Quinn!\n",
      "Czesc, Marcin!\n"
     ]
    }
   ],
   "source": [
    "def greet(greeting, name):\n",
    "    value = \"{0}, {1}!\".format(greeting, name)\n",
    "    print(value)\n",
    "\n",
    "## main\n",
    "greet(\"Hello\", \"Quinn\")\n",
    "greet(\"Czesc\", \"Marcin\")"
   ]
  },
  {
   "cell_type": "markdown",
   "metadata": {},
   "source": [
    "## Using Classes"
   ]
  },
  {
   "cell_type": "code",
   "execution_count": 4,
   "metadata": {},
   "outputs": [
    {
     "name": "stdout",
     "output_type": "stream",
     "text": [
      "Greetings, Quinn Zimmerman\n"
     ]
    }
   ],
   "source": [
    "class Robot:\n",
    "        def __init__(self, salutation, first_name, last_name):\n",
    "                self.salutation = salutation\n",
    "                self.first_name = first_name\n",
    "                self.last_name = last_name\n",
    "\n",
    "        def greet(self):\n",
    "                message = \"{0}, {1} {2}\".format(self.salutation,\n",
    "self.first_name,\n",
    "self.last_name)\n",
    "                print(message)\n",
    "\n",
    "## main\n",
    "bot = Robot(\"Greetings\", \"Quinn\", \"Zimmerman\")\n",
    "bot.greet()"
   ]
  },
  {
   "cell_type": "code",
   "execution_count": null,
   "metadata": {},
   "outputs": [],
   "source": []
  }
 ],
 "metadata": {
  "kernelspec": {
   "display_name": "Python 3",
   "language": "python",
   "name": "python3"
  },
  "language_info": {
   "codemirror_mode": {
    "name": "ipython",
    "version": 3
   },
   "file_extension": ".py",
   "mimetype": "text/x-python",
   "name": "python",
   "nbconvert_exporter": "python",
   "pygments_lexer": "ipython3",
   "version": "3.6.5"
  }
 },
 "nbformat": 4,
 "nbformat_minor": 2
}
