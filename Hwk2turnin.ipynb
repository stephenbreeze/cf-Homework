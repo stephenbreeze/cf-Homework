{
 "cells": [
  {
   "cell_type": "markdown",
   "metadata": {},
   "source": [
    "  "
   ]
  },
  {
   "cell_type": "markdown",
   "metadata": {},
   "source": [
    "# __Homework 2__"
   ]
  },
  {
   "cell_type": "code",
   "execution_count": 31,
   "metadata": {},
   "outputs": [],
   "source": [
    "import numpy as np\n",
    "from scipy.stats import binom\n",
    "\n",
    "## Call Payoff Function\n",
    "def callPayoff(spot, strike):\n",
    "    return np.maximum(spot - strike, 0.0)\n",
    "\n",
    "## Put Payoff Function\n",
    "def putPayoff(spot, strike):\n",
    "    return np.maximum(strike - spot, 0.0)"
   ]
  },
  {
   "cell_type": "code",
   "execution_count": 5,
   "metadata": {},
   "outputs": [],
   "source": [
    "def euroBinomPricerRecursiveMatrix(S, K, r, v, q, T, n, payoff, verbose = True):\n",
    "    nodes = n  + 1\n",
    "    h = T / n\n",
    "    u = 1.3\n",
    "    d = 0.8\n",
    "    pu = (np.exp((r - q) * h) - d) / (u - d)\n",
    "    pd = 1.0 - pu\n",
    "    disc = np.exp(-r * h)\n",
    "    \n",
    "    ## Arrays to store the spot prices and option values\n",
    "    Ct = np.zeros((nodes, n+1))\n",
    "    St = np.zeros((nodes, n+1))\n",
    "    Dt = np.zeros((nodes, n+1))\n",
    "    Bt = np.zeros((nodes, n+1))\n",
    "    \n",
    "    for i in range(nodes):\n",
    "        St[i, n] = S * (u**(n-i)) * (d**i)\n",
    "        Ct[i, n] = payoff(St[i, n], K)\n",
    "    \n",
    "\n",
    "    for t in range((n-1), -1, -1):\n",
    "        for j in range(t+1):\n",
    "            St[j, t] = St[j, t+1] / u\n",
    "            Ct[j, t] = disc * ((pu * Ct[j, t+1]) + (pd * Ct[j+1, t+1]))\n",
    "            delta = Dt[j, t] = np.exp(-q * h) * (Ct[j, t+1] - Ct[j+1, t+1]) / (St[j, t] * (u - d))\n",
    "            beta = Bt[j, t] = np.exp(-r * h) * (((u * Ct[j + 1, t+1]) - (d * Ct[j, t+ 1]))/(u - d))\n",
    "            print(f\"The beta is: {beta : 0.3f} and the delta is {delta : 0.3f}\")\n",
    "        \n",
    "    if verbose:\n",
    "        print(np.around(St, 3))\n",
    "        print(\"\\n\")\n",
    "        print(np.around(Ct, 3))\n",
    "        print(\"\\n\")\n",
    "        print(np.around(Dt, 3))\n",
    "        print(\"\\n\")\n",
    "        print(np.around(Bt, 3))\n",
    "                    \n",
    "            \n",
    "    return Ct[0,0]\n",
    "            "
   ]
  },
  {
   "cell_type": "markdown",
   "metadata": {},
   "source": [
    "### __Problem 1__\n",
    " \n",
    "Let $S = \\$100$, $K = \\$105$, $r = 8\\%$, $T = 0.5$, and $\\delta = 0.0$. Let $u = 1.3$, $d = 0.8$, and $n = 1$.\n",
    "\n",
    "<br>\n",
    "  What are the premium, $\\Delta$, and $B$ for a European call?\n",
    "    \n",
    "  What are the premium, $\\Delta$, and $B$ for a European put?\n",
    "<br>\n",
    "<br>"
   ]
  },
  {
   "cell_type": "code",
   "execution_count": 6,
   "metadata": {},
   "outputs": [],
   "source": [
    "S = 100\n",
    "K = 105\n",
    "r = 0.08\n",
    "v = 0.30\n",
    "q = 0.0\n",
    "T = 0.5\n",
    "n = 1"
   ]
  },
  {
   "cell_type": "code",
   "execution_count": 7,
   "metadata": {},
   "outputs": [
    {
     "name": "stdout",
     "output_type": "stream",
     "text": [
      "The beta is: -38.432 and the delta is  0.500\n",
      "The beta is:  62.451 and the delta is -0.500\n",
      "The European Call Premium:  11.568 and the Put Premium is  12.451\n"
     ]
    }
   ],
   "source": [
    "callPrc = euroBinomPricerRecursiveMatrix(S, K, r, v, q, T, n, callPayoff,  verbose = False)\n",
    "putPrc = euroBinomPricerRecursiveMatrix(S, K, r, v, q, T, n, putPayoff,  verbose = False)\n",
    "print(f\"The European Call Premium: {callPrc : 0.3f} and the Put Premium is {putPrc : 0.3f}\")"
   ]
  },
  {
   "cell_type": "markdown",
   "metadata": {},
   "source": [
    "### __Problem 2__\n",
    "\n",
    "Let $S = \\$100$, $K = \\$95$, $r = 8\\%$, $T = 0.5$, and $\\delta = 0.0$. Let $u = 1.3$, $d = 0.8$, and $n = 1$.\n",
    "<br>\n",
    " Verify that the price of a European put is $\\$7.471$.  \n",
    " Suppose you observe a call price of $\\$17$. What is the arbitrage?  \n",
    " Suppose you observe a call price of $\\$15.50$. What is the arbitrage?  \n",
    "\\end{itemize}"
   ]
  },
  {
   "cell_type": "code",
   "execution_count": 8,
   "metadata": {},
   "outputs": [],
   "source": [
    "S = 100\n",
    "K = 95\n",
    "r = 0.08\n",
    "v = 0.30\n",
    "q = 0.0\n",
    "T = 0.5\n",
    "n = 1"
   ]
  },
  {
   "cell_type": "code",
   "execution_count": 9,
   "metadata": {},
   "outputs": [
    {
     "name": "stdout",
     "output_type": "stream",
     "text": [
      "The beta is: -53.804 and the delta is  0.700\n",
      "The beta is:  37.471 and the delta is -0.300\n",
      "The European Call Premium:  16.196 and the Put Premium is  7.471\n"
     ]
    }
   ],
   "source": [
    "callPrc = euroBinomPricerRecursiveMatrix(S, K, r, v, q, T, n, callPayoff,  verbose = False)\n",
    "putPrc = euroBinomPricerRecursiveMatrix(S, K, r, v, q, T, n, putPayoff,  verbose = False)\n",
    "print(f\"The European Call Premium: {callPrc : 0.3f} and the Put Premium is {putPrc : 0.3f}\")"
   ]
  },
  {
   "cell_type": "markdown",
   "metadata": {},
   "source": [
    "b) Observe 17 =  The arbitrage would be to short the call of 16.19 of .81 cents  \n",
    "c. Observe 15.50 = The arbitrage would be to long the call of 16.19 of .69 cents"
   ]
  },
  {
   "cell_type": "markdown",
   "metadata": {},
   "source": [
    "### __Problem 3__\n",
    "\n",
    "Let $S = \\$100$, $K = \\$95$, $\\sigma = 30\\%$, $r = 8\\%$, $T = 1$, and $\\delta = 0.0$. Let $u = 1.3$, $d = 0.8$, and $n = 2$.  \n",
    "  \n",
    "Construct the binomial tree for a call option. At each node provide the premium, $\\Delta$, and $B$.\n"
   ]
  },
  {
   "cell_type": "code",
   "execution_count": 10,
   "metadata": {},
   "outputs": [],
   "source": [
    "S = 100\n",
    "K = 95\n",
    "r = 0.08\n",
    "v = 0.30\n",
    "q = 0.0\n",
    "T = 1\n",
    "n = 2"
   ]
  },
  {
   "cell_type": "code",
   "execution_count": 11,
   "metadata": {},
   "outputs": [
    {
     "name": "stdout",
     "output_type": "stream",
     "text": [
      "The beta is: -91.275 and the delta is  1.000\n",
      "The beta is: -13.835 and the delta is  0.225\n",
      "The beta is: -49.127 and the delta is  0.691\n",
      "[[100. 130. 169.]\n",
      " [  0.  80. 104.]\n",
      " [  0.   0.  64.]]\n",
      "\n",
      "\n",
      "[[19.994 38.725 74.   ]\n",
      " [ 0.     4.165  9.   ]\n",
      " [ 0.     0.     0.   ]]\n",
      "\n",
      "\n",
      "[[0.691 1.    0.   ]\n",
      " [0.    0.225 0.   ]\n",
      " [0.    0.    0.   ]]\n",
      "\n",
      "\n",
      "[[-49.127 -91.275   0.   ]\n",
      " [  0.    -13.835   0.   ]\n",
      " [  0.      0.      0.   ]]\n",
      "The European Call Premium:  19.994\n"
     ]
    }
   ],
   "source": [
    "callPrc = euroBinomPricerRecursiveMatrix(S, K, r, v, q, T, n, callPayoff,  verbose = True)\n",
    "print(f\"The European Call Premium: {callPrc : 0.3f}\")"
   ]
  },
  {
   "cell_type": "markdown",
   "metadata": {},
   "source": [
    "### __Problem 4__\n",
    "\n",
    "Repeat the option price calculation in the previous question for stock prices of $\\$80$, $\\$90$, $\\$110$,\n",
    "$\\$120$, and $\\$130$, but now let $n = 3$. Keep everyting else fixed. What happens to the initial option\n",
    "$\\Delta$ as the stock price increases?"
   ]
  },
  {
   "cell_type": "code",
   "execution_count": 12,
   "metadata": {},
   "outputs": [],
   "source": [
    "S = 80"
   ]
  },
  {
   "cell_type": "code",
   "execution_count": 13,
   "metadata": {},
   "outputs": [
    {
     "name": "stdout",
     "output_type": "stream",
     "text": [
      "The beta is: -61.798 and the delta is  0.773\n",
      "The beta is:  0.000 and the delta is  0.000\n",
      "The beta is: -28.596 and the delta is  0.465\n",
      "The European Call Premium:  8.608\n"
     ]
    }
   ],
   "source": [
    "callPrc = euroBinomPricerRecursiveMatrix(S, K, r, v, q, T, n, callPayoff,  verbose = False)\n",
    "print(f\"The European Call Premium: {callPrc : 0.3f}\")"
   ]
  },
  {
   "cell_type": "code",
   "execution_count": 14,
   "metadata": {},
   "outputs": [
    {
     "name": "stdout",
     "output_type": "stream",
     "text": [
      "The beta is: -87.778 and the delta is  0.976\n",
      "The beta is:  0.000 and the delta is  0.000\n",
      "The beta is: -40.618 and the delta is  0.587\n",
      "The European Call Premium:  12.227\n"
     ]
    }
   ],
   "source": [
    "S = 90\n",
    "callPrc = euroBinomPricerRecursiveMatrix(S, K, r, v, q, T, n, callPayoff,  verbose = False)\n",
    "print(f\"The European Call Premium: {callPrc : 0.3f}\")"
   ]
  },
  {
   "cell_type": "code",
   "execution_count": 15,
   "metadata": {},
   "outputs": [
    {
     "name": "stdout",
     "output_type": "stream",
     "text": [
      "The beta is: -91.275 and the delta is  1.000\n",
      "The beta is: -29.823 and the delta is  0.441\n",
      "The beta is: -57.090 and the delta is  0.777\n",
      "The European Call Premium:  28.406\n"
     ]
    }
   ],
   "source": [
    "S = 110\n",
    "callPrc = euroBinomPricerRecursiveMatrix(S, K, r, v, q, T, n, callPayoff,  verbose = False)\n",
    "print(f\"The European Call Premium: {callPrc : 0.3f}\")"
   ]
  },
  {
   "cell_type": "code",
   "execution_count": 16,
   "metadata": {},
   "outputs": [
    {
     "name": "stdout",
     "output_type": "stream",
     "text": [
      "The beta is: -91.275 and the delta is  1.000\n",
      "The beta is: -45.810 and the delta is  0.621\n",
      "The beta is: -65.052 and the delta is  0.849\n",
      "The European Call Premium:  36.819\n"
     ]
    }
   ],
   "source": [
    "S = 120\n",
    "callPrc = euroBinomPricerRecursiveMatrix(S, K, r, v, q, T, n, callPayoff,  verbose = False)\n",
    "print(f\"The European Call Premium: {callPrc : 0.3f}\")"
   ]
  },
  {
   "cell_type": "code",
   "execution_count": 17,
   "metadata": {},
   "outputs": [
    {
     "name": "stdout",
     "output_type": "stream",
     "text": [
      "The beta is: -91.275 and the delta is  1.000\n",
      "The beta is: -61.798 and the delta is  0.773\n",
      "The beta is: -73.015 and the delta is  0.910\n",
      "The European Call Premium:  45.231\n"
     ]
    }
   ],
   "source": [
    "S = 130\n",
    "callPrc = euroBinomPricerRecursiveMatrix(S, K, r, v, q, T, n, callPayoff,  verbose = False)\n",
    "print(f\"The European Call Premium: {callPrc : 0.3f}\")"
   ]
  },
  {
   "cell_type": "markdown",
   "metadata": {},
   "source": [
    "Delta increases at a decreasing rate as the spot price increases"
   ]
  },
  {
   "cell_type": "markdown",
   "metadata": {},
   "source": [
    "### __Problem 5__\n",
    "\n",
    "Let $S = \\$100$, $K = \\$95$, $r = 8\\%$ (continuously compounded), $\\sigma = 30\\%$, $\\delta = 0$, and $T = 1$ year and $n = 3$.\n",
    "\n",
    "What is the premium for an American call option? Is there any early exercise?  \n",
    " What is the premium for a European call option? Use the computational shortcut with the\n",
    " risk-neutral binomial pmf that I showed you in class. Compare the American and European premia.  \n",
    " What is the premium for a European put? Does put-call parity hold? (see McDonald Chapter 9). Also use the risk-neutral binomial pmf for this problem.    \n",
    "What is the premium of the American put? Compare with the European put. If they differ, explain why.\n",
    "\n",
    "<br>"
   ]
  },
  {
   "cell_type": "code",
   "execution_count": 57,
   "metadata": {},
   "outputs": [],
   "source": [
    "def euroBinomPricerRecursive(S, K, r, v, q, T, n, payoff, verbose = False):\n",
    "    nodes = n  + 1\n",
    "    h = T / n\n",
    "    u = np.exp((r - q) * h + v * np.sqrt(h))\n",
    "    d = np.exp((r - q) * h - v * np.sqrt(h))\n",
    "    pu = (np.exp((r - q) * h) - d) / (u - d)\n",
    "    pd = 1.0 - pu\n",
    "    disc = np.exp(-r * h)\n",
    "    \n",
    "    \n",
    "    ## Arrays to store the spot prices and option values\n",
    "    Ct = np.empty(nodes)\n",
    "    St = np.empty(nodes)\n",
    "    \n",
    "    for i in range(nodes):\n",
    "        St[i] = S * (u ** (n - i)) * (d ** i)\n",
    "        Ct[i] = payoff(St[i], K)\n",
    "    \n",
    "    if verbose:\n",
    "        print(Ct)\n",
    "        \n",
    "    for t in range((n - 1), -1, -1):\n",
    "        for j in range(t+1):\n",
    "            Ct[j] = disc * (pu * Ct[j] + pd * Ct[j+1])\n",
    "            St[j] = St[j] / u\n",
    "            Ct[j] = np.maximum(Ct[j], K - St[j])\n",
    "            print(Ct)\n",
    "            \n",
    "    return Ct[0]"
   ]
  },
  {
   "cell_type": "code",
   "execution_count": 58,
   "metadata": {},
   "outputs": [],
   "source": [
    "def euroBinomPricerRecursiveMatrix(S, K, r, v, q, T, n, payoff, verbose = False):\n",
    "    nodes = n  + 1\n",
    "    h = T / n\n",
    "    u = np.exp((r - q) * h + v * np.sqrt(h))\n",
    "    d = np.exp((r - q) * h - v * np.sqrt(h))\n",
    "    pu = (np.exp((r - q) * h) - d) / (u - d)\n",
    "    pd = 1.0 - pu\n",
    "    disc = np.exp(-r * h)\n",
    "    \n",
    "    ## Arrays to store the spot prices and option values\n",
    "    Ct = np.zeros((nodes, n+1))\n",
    "    St = np.zeros((nodes, n+1))\n",
    "    Dt = np.zeros((nodes, n+1))\n",
    "    \n",
    "    for i in range(nodes):\n",
    "        St[i, n] = S * (u**(n-i)) * (d**i)\n",
    "        Ct[i, n] = payoff(St[i, n], K)\n",
    "    \n",
    "\n",
    "    for t in range((n-1), -1, -1):\n",
    "        for j in range(t+1):\n",
    "            St[j, t] = St[j, t+1] / u\n",
    "            Ct[j, t] = disc * ((pu * Ct[j, t+1]) + (pd * Ct[j+1, t+1]))\n",
    "            Dt[j, t] = np.exp(-q * h) * (Ct[j, t+1] - Ct[j+1, t+1]) / (St[j, t] * (u - d))\n",
    "          \n",
    "    return Ct[0,0]\n"
   ]
  },
  {
   "cell_type": "code",
   "execution_count": 59,
   "metadata": {},
   "outputs": [],
   "source": [
    "S = 100\n",
    "K = 95\n",
    "r = 0.08\n",
    "v = 0.30\n",
    "q = 0.0\n",
    "T = 1\n",
    "n = 3"
   ]
  },
  {
   "cell_type": "code",
   "execution_count": 61,
   "metadata": {},
   "outputs": [
    {
     "name": "stdout",
     "output_type": "stream",
     "text": [
      "[56.64406241 33.8147424   0.          0.        ]\n",
      "[56.64406241 15.04032855  0.          0.        ]\n",
      "[56.64406241 15.04032855 20.40351726  0.        ]\n",
      "[33.14931753 15.04032855 20.40351726  0.        ]\n",
      "[33.14931753 17.48114202 20.40351726  0.        ]\n",
      "[23.99012609 17.48114202 20.40351726  0.        ]\n",
      "[ 0.          0.          3.89933488 30.57157332]\n",
      "[ 0.          2.06235672  3.89933488 30.57157332]\n",
      "[ 0.          2.06235672 20.40351726 30.57157332]\n",
      "[ 1.09077967  2.06235672 20.40351726 30.57157332]\n",
      "[ 1.09077967 11.7087201  20.40351726 30.57157332]\n",
      "[ 6.67790123 11.7087201  20.40351726 30.57157332]\n",
      "The European Call Premium:  18.283 The American call is  18.283\n",
      "The European Put Premium:  5.979 The American put is  6.678\n"
     ]
    }
   ],
   "source": [
    "callPrcA = euroBinomPricerRecursive(S, K, r, v, q, T, n, callPayoff,  verbose = False)\n",
    "callPrcE = euroBinomPricerRecursiveMatrix(S, K, r, v, q, T, n, callPayoff,  verbose = False)\n",
    "putPrcA = euroBinomPricerRecursive(S, K, r, v, q, T, n, putPayoff,  verbose = False)\n",
    "putPrcE = euroBinomPricerRecursiveMatrix(S, K, r, v, q, T, n, putPayoff,  verbose = False)\n",
    "\n",
    "print(f\"The European Call Premium: {callPrcE : 0.3f} The American call is {callPrcE : 0.3f}\")\n",
    "print(f\"The European Put Premium: {putPrcE : 0.3f} The American put is {putPrcA : 0.3f}\")\n",
    "\n"
   ]
  },
  {
   "cell_type": "code",
   "execution_count": 63,
   "metadata": {},
   "outputs": [
    {
     "data": {
      "text/plain": [
       "12.30394709326959"
      ]
     },
     "execution_count": 63,
     "metadata": {},
     "output_type": "execute_result"
    }
   ],
   "source": [
    "parity = S - (K * np.exp(-r*T))\n",
    "parity\n",
    "parity1 = callPrc - putPrc\n",
    "parity1"
   ]
  },
  {
   "cell_type": "markdown",
   "metadata": {},
   "source": [
    "#### __Problem 6__\n",
    "\n",
    "Let $S = \\$40$, $K = \\$40$, $r = 8\\%$ (continuously compounded), $\\sigma = 30\\%$, $\\delta = 0.0$, $T = 0.5$ year,\n",
    "and $n = 3$.\n",
    "\n",
    " Construct the binomial tree for the stock. What are $u$ and $d$?  \n",
    " Compute the premia of American and European calls and puts.\n",
    "\n"
   ]
  },
  {
   "cell_type": "code",
   "execution_count": 68,
   "metadata": {},
   "outputs": [],
   "source": [
    "S = 40\n",
    "K = 40\n",
    "r = 0.08\n",
    "v = 0.30\n",
    "q = 0.0\n",
    "T = 0.5\n",
    "n = 3\n",
    "h = T/n\n",
    "\n",
    "u6 = np.exp((r - q) * h + v * np.sqrt(h))\n",
    "d6 = np.exp((r - q) * h - v * np.sqrt(h))"
   ]
  },
  {
   "cell_type": "code",
   "execution_count": 72,
   "metadata": {},
   "outputs": [
    {
     "name": "stdout",
     "output_type": "stream",
     "text": [
      "[13.01309727  7.05673217  0.          0.        ]\n",
      "[13.01309727  3.26869392  0.          0.        ]\n",
      "[13.01309727  3.26869392  7.84406148  0.        ]\n",
      "[7.73902974 3.26869392 7.84406148 0.        ]\n",
      "[7.73902974 5.6208478  7.84406148 0.        ]\n",
      "[6.52754713 5.6208478  7.84406148 0.        ]\n",
      "[ 0.          0.          3.16660277 11.16886174]\n",
      "[ 0.          1.65788424  3.16660277 11.16886174]\n",
      "[ 0.          1.65788424  7.84406148 11.16886174]\n",
      "[ 0.86799019  1.65788424  7.84406148 11.16886174]\n",
      "[ 0.86799019  4.8747172   7.84406148 11.16886174]\n",
      "[ 2.95422756  4.8747172   7.84406148 11.16886174]\n"
     ]
    }
   ],
   "source": [
    "callPrcA = euroBinomPricerRecursive(S, K, r, v, q, T, n, callPayoff,  verbose = False)\n",
    "callPrcE = euroBinomPricerRecursiveMatrix(S, K, r, v, q, T, n, callPayoff,  verbose = False)\n",
    "putPrcA = euroBinomPricerRecursive(S, K, r, v, q, T, n, putPayoff,  verbose = False)\n",
    "putPrcE = euroBinomPricerRecursiveMatrix(S, K, r, v, q, T, n, putPayoff,  verbose = False)"
   ]
  },
  {
   "cell_type": "code",
   "execution_count": 74,
   "metadata": {},
   "outputs": [
    {
     "name": "stdout",
     "output_type": "stream",
     "text": [
      "The u value is  1.145 and the d value is  0.897\n",
      "The European Call Premium:  4.377 The American call is  4.377\n",
      "The European Put Premium:  2.809 The American put is  2.954\n"
     ]
    }
   ],
   "source": [
    "print(f\"The u value is {u6 : 0.3f} and the d value is {d6 : 0.3f}\")\n",
    "print(f\"The European Call Premium: {callPrcE : 0.3f} The American call is {callPrcE : 0.3f}\")\n",
    "print(f\"The European Put Premium: {putPrcE : 0.3f} The American put is {putPrcA : 0.3f}\")\n"
   ]
  },
  {
   "cell_type": "code",
   "execution_count": null,
   "metadata": {},
   "outputs": [],
   "source": []
  }
 ],
 "metadata": {
  "kernelspec": {
   "display_name": "Python 3",
   "language": "python",
   "name": "python3"
  },
  "language_info": {
   "codemirror_mode": {
    "name": "ipython",
    "version": 3
   },
   "file_extension": ".py",
   "mimetype": "text/x-python",
   "name": "python",
   "nbconvert_exporter": "python",
   "pygments_lexer": "ipython3",
   "version": "3.6.5"
  }
 },
 "nbformat": 4,
 "nbformat_minor": 2
}
