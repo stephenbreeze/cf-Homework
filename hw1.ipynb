{
 "cells": [
  {
   "cell_type": "markdown",
   "metadata": {},
   "source": [
    "## Finance 5350 - Fall 2018\n",
    "## Homework 1\n",
    "\n",
    "**DUE: Some Future Date (TBA)**\n",
    "\n",
    "\n",
    "This homework is all about putting to use your knowledge of `Python` from the different building blocks that you have seen so far.\n",
    "\n",
    "We will be talking about these problems and I will give lots of hints in class!\n",
    "\n"
   ]
  },
  {
   "cell_type": "markdown",
   "metadata": {},
   "source": [
    "### Problem 1\n",
    "\n",
    "This problem is known as the *chicken nuggets* problem. It goes like this: you walk into Chick Fil-A with an unlimited amount of money (and appetite!). You can purchase nuggets in containers of 6, 9, and 20.\n",
    "\n",
    "Write a program to tell you the ***highest*** number of nuggets that you ***cannot*** purchase! Re-read that just in case it went past you the first time! The highest number that you cannot get. For example, you can get 15 nuggets by purchasing and box of 6 and a box of 9 nuggets. You can get 18 by purchasing 2 boxes of 9 nuggets. But with no combination of 6, 9, and 20 can you purchase 17 nuggets. What is the highest number that you cannot get?!\n",
    "\n",
    "This simple game will give you experience assembling different bits of `Python` programming to find the solution. It will also employ a very simple numerical method called *brute force* search. \n",
    "\n",
    "Please write your solution in the code cell below:"
   ]
  },
  {
   "cell_type": "code",
   "execution_count": 3,
   "metadata": {
    "collapsed": false
   },
   "outputs": [
    {
     "name": "stdout",
     "output_type": "stream",
     "text": [
      "The largest number of nuggets that I cannot get is: 43\n"
     ]
    }
   ],
   "source": [
    "def is_nugget_number(candidate, packets):\n",
    "    s = packets['s']\n",
    "    m = packets['m']\n",
    "    l = packets['l']\n",
    "    \n",
    "    for i in range(candidate//s + 1):\n",
    "        for j in range(candidate//m + 1):\n",
    "            for k in range(candidate//l + 1):\n",
    "                if(candidate == i*s + j*m + k*l):\n",
    "                    return True\n",
    "                \n",
    "    return False\n",
    "\n",
    "\n",
    "\n",
    "## main\n",
    "\n",
    "packets = {'s' : 6, 'm' : 9, 'l' : 20}\n",
    "\n",
    "# Is a given number a nugget number\n",
    "candidate = packets['s']\n",
    "\n",
    "# Keep track of how many candidates in a row are nugget numbers\n",
    "count = 0\n",
    "\n",
    "# Loop until stopping rule met\n",
    "while count < packets['s']:\n",
    "    if is_nugget_number(candidate, packets):\n",
    "        count += 1\n",
    "    else:\n",
    "        count = 0\n",
    "        largest = candidate\n",
    "    candidate += 1\n",
    "    \n",
    "print(f\"The largest number of nuggets that I cannot get is: {largest}\")"
   ]
  },
  {
   "cell_type": "markdown",
   "metadata": {},
   "source": [
    "### Problem 2\n",
    "\n",
    "In the book **[Python Programming for the Absolute Beginner, 3rd Edition](http://goo.gl/7PGr9r)** the author teaches `Python` through some simple game programming. One of the first games that he shows how to write is the so-called ***Guess My Number*** game, which is the children's game of guessing some one's secret number (a number between 1 and 100). \n",
    "\n",
    "An implementation of the game in `Python` might look something like this:"
   ]
  },
  {
   "cell_type": "code",
   "execution_count": 16,
   "metadata": {
    "collapsed": false
   },
   "outputs": [
    {
     "name": "stdout",
     "output_type": "stream",
     "text": [
      "\tWelcome to 'Guess My Number'!\n",
      "\tI'm thinking of a number between 1 and 100.\n",
      "\tTry to guess it in as few attempts as possible.\n",
      "\n",
      "Take a guess: 50\n",
      "Lower ...\n",
      "Take a guess: 25\n",
      "Lower ...\n",
      "Take a guess: 12\n",
      "Higher...\n",
      "Take a guess: 18\n",
      "Lower ...\n",
      "Take a guess: 15\n",
      "Lower ...\n",
      "Take a guess: 13\n",
      "You guessed it! The number was 13\n",
      "And it only took you 6 tries!\n",
      "\n",
      "\n",
      "\n",
      "Press the enter key to exit.\n"
     ]
    }
   ],
   "source": [
    "import random\n",
    "\n",
    "def print_header():\n",
    "    print(\"\\tWelcome to 'Guess My Number'!\")\n",
    "    print(\"\\tI'm thinking of a number between 1 and 100.\")\n",
    "    print(\"\\tTry to guess it in as few attempts as possible.\\n\")\n",
    "\n",
    "\n",
    "def print_footer(the_number, tries):\n",
    "    print(\"You guessed it! The number was\", the_number)\n",
    "    print(\"And it only took you\", tries, \"tries!\\n\")\n",
    "    print(\"\\n\\nPress the enter key to exit.\")    \n",
    "    \n",
    "def main():\n",
    "    # print the greeting banner\n",
    "    print_header()\n",
    "    \n",
    "    # set the initial values\n",
    "    the_number = random.randint(1, 100)\n",
    "    guess = int(input(\"Take a guess: \"))\n",
    "    tries = 1\n",
    "    \n",
    "    # the game loop\n",
    "    while guess != the_number:\n",
    "        if guess > the_number:\n",
    "            print(\"Lower ...\")\n",
    "        else:\n",
    "            print(\"Higher...\")\n",
    "            \n",
    "        guess = int(input(\"Take a guess: \"))\n",
    "        tries += 1\n",
    "        \n",
    "    print_footer(the_number, tries)\n",
    "    \n",
    "    \n",
    "if __name__ == \"__main__\":\n",
    "    main()"
   ]
  },
  {
   "cell_type": "markdown",
   "metadata": {},
   "source": [
    "Make sure you understand each bit of the above program! Study it, play with it, pick it apart, re-write on  your own computer in Spyder. **Remember: Programming is a full contact sport! You have to do it to learn it!!!**"
   ]
  },
  {
   "cell_type": "markdown",
   "metadata": {},
   "source": [
    "Your task in this problem is to now write a version of the *Guess My Number* game where you and the computer switch roles! That is right: you think of a number and the computer must guess it in as few attempts as possible. You will need to encode your guessing logic to the program solution.\n",
    "\n",
    "This might seem like silly game play, but in order to solve the problem you must use an algorithm called **binary search** or the **bisection method** to solve the problem correctly. This is our first attempt at programming a simple algorithm. We will see this algorithm later in the context of the ***Black-Scholes-Merton Option Pricing Model*** to calculate the implied volatility of the model. This is something that options traders do thousands and thousands of times a day!\n",
    "\n",
    "Please use the code cell below to write your solution:"
   ]
  },
  {
   "cell_type": "code",
   "execution_count": 5,
   "metadata": {
    "collapsed": false
   },
   "outputs": [
    {
     "name": "stdout",
     "output_type": "stream",
     "text": [
      "Hello!\n",
      "It is I, the computer.\n",
      "Think of a number between 1 and 100.\n",
      "I will try to guess your number in 7 or less guesses.\n",
      "If im correct, type 'c', if I need to guess higher then 'h', if lower then 'l'\n",
      "\n",
      " \n",
      "My guess is  75\n",
      "My guess is  38\n",
      "I'm a pretty good guesser! I guessed it in 2 tries\n"
     ]
    }
   ],
   "source": [
    "import random\n",
    "\n",
    "print(\"Hello!\\nIt is I, the computer.\\nThink of a number between 1 and 100.\\nI will try to guess your number in 7 or less guesses.\\nIf im correct, type 'c', if I need to guess higher then 'h', if lower then 'l'\\n\\n \")\n",
    "higher = 101 \n",
    "lower = 0\n",
    "count = 1\n",
    "guess = random.randint(1,100)\n",
    "\n",
    "while higher > lower:\n",
    "    if count < 8:\n",
    "        print(\"My guess is \", guess)\n",
    "        response = input()\n",
    "        if response == \"h\":\n",
    "            lower = guess\n",
    "            mid = (higher - lower)//2\n",
    "            guess = lower + mid\n",
    "        if response == \"l\":\n",
    "            higher = guess\n",
    "            mid = (higher - lower)//2\n",
    "            guess = higher - mid \n",
    "        if response == \"c\":\n",
    "            if count == 1:\n",
    "                print(\"Guessed it in a single try, Wow i'm lucky!\")\n",
    "            elif count < 6:\n",
    "                print(\"I'm a pretty good guesser! I guessed it in\", count,\"tries\")\n",
    "            else:\n",
    "                print(\"I win! it took me\", count,\"tries\") \n",
    "            break\n",
    "        count +=1\n",
    "    else:\n",
    "        print(\"I lose......\")\n",
    "        break\n",
    "              "
   ]
  },
  {
   "cell_type": "code",
   "execution_count": null,
   "metadata": {
    "collapsed": false
   },
   "outputs": [],
   "source": []
  },
  {
   "cell_type": "code",
   "execution_count": null,
   "metadata": {},
   "outputs": [],
   "source": []
  }
 ],
 "metadata": {
  "anaconda-cloud": {},
  "kernelspec": {
   "display_name": "Python 3",
   "language": "python",
   "name": "python3"
  },
  "language_info": {
   "codemirror_mode": {
    "name": "ipython",
    "version": 3
   },
   "file_extension": ".py",
   "mimetype": "text/x-python",
   "name": "python",
   "nbconvert_exporter": "python",
   "pygments_lexer": "ipython3",
   "version": "3.6.5"
  }
 },
 "nbformat": 4,
 "nbformat_minor": 2
}
